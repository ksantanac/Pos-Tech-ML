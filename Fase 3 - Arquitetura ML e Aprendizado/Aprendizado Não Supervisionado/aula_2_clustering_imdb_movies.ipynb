{
  "cells": [
    {
      "cell_type": "markdown",
      "metadata": {
        "id": "Bx_K3Ky6RHT8"
      },
      "source": [
        "# Aula 2 - Aprendizado Não Supervisionado - Clustering - Verificando tendências de mercado via Clustering ($K$-Means Clustering em detalhes)\n",
        "\n",
        "Prof. Dr. Ahirton Lopes\n",
        "\n",
        "Ref. https://www.kaggle.com/datasets/carolzhangdc/imdb-5000-movie-dataset"
      ]
    },
    {
      "cell_type": "markdown",
      "metadata": {
        "id": "g89R4SotW0ug"
      },
      "source": [
        "No mundo atual, onde os dados são considerados o novo petróleo, a capacidade de extrair informações valiosas de conjuntos de dados é uma vantagem competitiva crucial para as empresas. Uma das maneiras pelas quais as empresas podem obter insights valiosos é através do uso de técnicas de clustering, especialmente quando aplicadas a conjuntos de dados ricos, como o IMDB 5000. O IMDB 5000 é uma base de dados composta por informações sobre filmes, incluindo detalhes sobre elenco, diretores, avaliações dos usuários, orçamento de produção e receita de bilheteria. Ao utilizar essa base de dados em conjunto com técnicas de clustering, as empresas podem descobrir padrões e tendências que não seriam óbvios à primeira vista.\n",
        "\n",
        "Uma aplicação inicial do clustering na base de dados IMDB 5000 poderia ser a segmentação de filmes com base em gênero, orçamento de produção e receita de bilheteria. Isso permitiria às empresas identificar quais gêneros de filmes tendem a ter maior retorno sobre o investimento e quais são mais populares entre diferentes grupos demográficos. Por exemplo, pode-se descobrir que filmes de ação com orçamento moderado têm um desempenho excepcionalmente bom entre os espectadores jovens, enquanto os filmes de comédia romântica atraem um público mais maduro."
      ]
    },
    {
      "cell_type": "code",
      "execution_count": 22,
      "metadata": {},
      "outputs": [
        {
          "name": "stderr",
          "output_type": "stream",
          "text": [
            "  % Total    % Received % Xferd  Average Speed   Time    Time     Time  Current\n",
            "                                 Dload  Upload   Total   Spent    Left  Speed\n",
            "\n",
            "  0     0    0     0    0     0      0      0 --:--:-- --:--:-- --:--:--     0\n",
            "100 15228  100 15228    0     0   157k      0 --:--:-- --:--:-- --:--:--  168k\n"
          ]
        }
      ],
      "source": [
        "!curl -O https://raw.githubusercontent.com/ahirtonlopes/Unsupervised_Learning/main/IMDB_movie_dataset.csv"
      ]
    },
    {
      "cell_type": "markdown",
      "metadata": {
        "id": "gtXQgROkRmA9"
      },
      "source": [
        "## Lendo os dados"
      ]
    },
    {
      "cell_type": "code",
      "execution_count": 23,
      "metadata": {
        "id": "gSIi0f_My9kN"
      },
      "outputs": [],
      "source": [
        "import pandas as pd\n",
        "import numpy as np"
      ]
    },
    {
      "cell_type": "code",
      "execution_count": 24,
      "metadata": {
        "colab": {
          "base_uri": "https://localhost:8080/",
          "height": 486
        },
        "id": "HZ1soINVzQ29",
        "outputId": "6f642b4d-db9c-461c-9b3e-a2c6434fe12c"
      },
      "outputs": [
        {
          "data": {
            "text/html": [
              "<div>\n",
              "<style scoped>\n",
              "    .dataframe tbody tr th:only-of-type {\n",
              "        vertical-align: middle;\n",
              "    }\n",
              "\n",
              "    .dataframe tbody tr th {\n",
              "        vertical-align: top;\n",
              "    }\n",
              "\n",
              "    .dataframe thead th {\n",
              "        text-align: right;\n",
              "    }\n",
              "</style>\n",
              "<table border=\"1\" class=\"dataframe\">\n",
              "  <thead>\n",
              "    <tr style=\"text-align: right;\">\n",
              "      <th></th>\n",
              "      <th>color</th>\n",
              "      <th>director_name</th>\n",
              "      <th>duration</th>\n",
              "      <th>gross</th>\n",
              "      <th>genres</th>\n",
              "      <th>movie_title</th>\n",
              "      <th>title_year</th>\n",
              "      <th>language</th>\n",
              "      <th>country</th>\n",
              "      <th>budget</th>\n",
              "      <th>imdb_score</th>\n",
              "      <th>actors</th>\n",
              "      <th>movie_facebook_likes</th>\n",
              "    </tr>\n",
              "  </thead>\n",
              "  <tbody>\n",
              "    <tr>\n",
              "      <th>0</th>\n",
              "      <td>Color</td>\n",
              "      <td>Martin Scorsese</td>\n",
              "      <td>240</td>\n",
              "      <td>116866727.0</td>\n",
              "      <td>Biography|Comedy|Crime|Drama</td>\n",
              "      <td>The Wolf of Wall Street</td>\n",
              "      <td>2013</td>\n",
              "      <td>English</td>\n",
              "      <td>USA</td>\n",
              "      <td>100000000.0</td>\n",
              "      <td>8.2</td>\n",
              "      <td>Leonardo DiCaprio,Matthew McConaughey,Jon Favreau</td>\n",
              "      <td>138000</td>\n",
              "    </tr>\n",
              "    <tr>\n",
              "      <th>1</th>\n",
              "      <td>Color</td>\n",
              "      <td>Shane Black</td>\n",
              "      <td>195</td>\n",
              "      <td>408992272.0</td>\n",
              "      <td>Action|Adventure|Sci-Fi</td>\n",
              "      <td>Iron Man 3</td>\n",
              "      <td>2013</td>\n",
              "      <td>English</td>\n",
              "      <td>USA</td>\n",
              "      <td>200000000.0</td>\n",
              "      <td>7.2</td>\n",
              "      <td>Robert Downey Jr.,Jon Favreau,Don Cheadle</td>\n",
              "      <td>95000</td>\n",
              "    </tr>\n",
              "    <tr>\n",
              "      <th>2</th>\n",
              "      <td>color</td>\n",
              "      <td>Quentin Tarantino</td>\n",
              "      <td>187</td>\n",
              "      <td>54116191.0</td>\n",
              "      <td>Crime|Drama|Mystery|Thriller|Western</td>\n",
              "      <td>The Hateful Eight</td>\n",
              "      <td>2015</td>\n",
              "      <td>English</td>\n",
              "      <td>USA</td>\n",
              "      <td>44000000.0</td>\n",
              "      <td>7.9</td>\n",
              "      <td>Craig Stark,Jennifer Jason Leigh,Zoë Bell</td>\n",
              "      <td>114000</td>\n",
              "    </tr>\n",
              "    <tr>\n",
              "      <th>3</th>\n",
              "      <td>Color</td>\n",
              "      <td>Kenneth Lonergan</td>\n",
              "      <td>186</td>\n",
              "      <td>46495.0</td>\n",
              "      <td>Drama</td>\n",
              "      <td>Margaret</td>\n",
              "      <td>2011</td>\n",
              "      <td>English</td>\n",
              "      <td>usa</td>\n",
              "      <td>14000000.0</td>\n",
              "      <td>6.5</td>\n",
              "      <td>Matt Damon,Kieran Culkin,John Gallagher Jr.</td>\n",
              "      <td>0</td>\n",
              "    </tr>\n",
              "    <tr>\n",
              "      <th>4</th>\n",
              "      <td>Color</td>\n",
              "      <td>Peter Jackson</td>\n",
              "      <td>186</td>\n",
              "      <td>258355354.0</td>\n",
              "      <td>Adventure|Fantasy</td>\n",
              "      <td>The Hobbit: The Desolation of Smaug</td>\n",
              "      <td>2013</td>\n",
              "      <td>English</td>\n",
              "      <td>USA</td>\n",
              "      <td>225000000.0</td>\n",
              "      <td>7.9</td>\n",
              "      <td>Aidan Turner,Adam Brown,James Nesbitt</td>\n",
              "      <td>83000</td>\n",
              "    </tr>\n",
              "  </tbody>\n",
              "</table>\n",
              "</div>"
            ],
            "text/plain": [
              "    color      director_name  duration        gross  \\\n",
              "0   Color    Martin Scorsese       240  116866727.0   \n",
              "1   Color        Shane Black       195  408992272.0   \n",
              "2  color   Quentin Tarantino       187   54116191.0   \n",
              "3   Color   Kenneth Lonergan       186      46495.0   \n",
              "4   Color      Peter Jackson       186  258355354.0   \n",
              "\n",
              "                                 genres                          movie_title  \\\n",
              "0          Biography|Comedy|Crime|Drama              The Wolf of Wall Street   \n",
              "1               Action|Adventure|Sci-Fi                           Iron Man 3   \n",
              "2  Crime|Drama|Mystery|Thriller|Western                    The Hateful Eight   \n",
              "3                                 Drama                             Margaret   \n",
              "4                     Adventure|Fantasy  The Hobbit: The Desolation of Smaug   \n",
              "\n",
              "   title_year language country       budget  imdb_score  \\\n",
              "0        2013  English     USA  100000000.0         8.2   \n",
              "1        2013  English     USA  200000000.0         7.2   \n",
              "2        2015  English     USA   44000000.0         7.9   \n",
              "3        2011  English     usa   14000000.0         6.5   \n",
              "4        2013  English     USA  225000000.0         7.9   \n",
              "\n",
              "                                              actors  movie_facebook_likes  \n",
              "0  Leonardo DiCaprio,Matthew McConaughey,Jon Favreau                138000  \n",
              "1          Robert Downey Jr.,Jon Favreau,Don Cheadle                 95000  \n",
              "2          Craig Stark,Jennifer Jason Leigh,Zoë Bell                114000  \n",
              "3        Matt Damon,Kieran Culkin,John Gallagher Jr.                     0  \n",
              "4              Aidan Turner,Adam Brown,James Nesbitt                 83000  "
            ]
          },
          "execution_count": 24,
          "metadata": {},
          "output_type": "execute_result"
        }
      ],
      "source": [
        "dataset = pd.read_csv('data/IMDB_movie_dataset.csv',encoding='utf-8')\n",
        "dataset.head()"
      ]
    },
    {
      "cell_type": "markdown",
      "metadata": {
        "id": "omOJPjh_XDe1"
      },
      "source": [
        "\n",
        "Estratégias de limpeza de dados\n",
        "\n",
        "Como você pode ver em nosso exemplo, podem haver diferentes tipos de erros em um conjunto de dados:\n",
        "\n",
        "Outliers: outliers são os números em uma coluna que estão fora do intervalo. Na verdade, um outlier está fora da maioria dos outros valores em um conjunto de dados (células vermelhas na figura).\n",
        "\n",
        "Duplicatas: um conjunto de dados pode conter linhas ou registros repetitivos (linhas roxas na figura).\n",
        "\n",
        "Valores ausentes: podemos perder dados como resultado de erro humano ou falta de informações (células laranja na figura).\n",
        "\n",
        "Caracteres inválidos ou valores NULL: alguns valores podem conter caracteres inválidos, como valores ₮ ou NULL.\n",
        "\n",
        "Às vezes, dados nulos podem ser especificados com valores diferentes, como N/A ou NA ou NAN (células claras ou escuras na figura).\n",
        "\n",
        "Nominal: um atributo pode ser categórico como uma cor que pode conter um conjunto de valores restritos (por exemplo, azul, vermelho, marrom, ...)\n",
        "\n",
        "Texto: um atributo pode ser um texto livre ou uma string.\n",
        "Numérico: um atributo pode ser numérico (por exemplo, moeda, pontuações).\n",
        "\n",
        "Algumas das estratégias possíveis:\n",
        "\n",
        "1. Padronizar valores;\n",
        "2. Normalizar valores;\n",
        "3. Validação de dados."
      ]
    },
    {
      "cell_type": "code",
      "execution_count": 25,
      "metadata": {
        "id": "1VBPYFzozoKM"
      },
      "outputs": [],
      "source": [
        "# Dropando colunas desnecessárias para nosso tipo de análise como cores e linguagem (que podem ser importantes em outros contextos)\n",
        "\n",
        "dataset.drop(['color','language'], axis= 1, inplace= True)\n"
      ]
    },
    {
      "cell_type": "code",
      "execution_count": 26,
      "metadata": {
        "id": "K8CA8eHi0AQ0"
      },
      "outputs": [
        {
          "name": "stderr",
          "output_type": "stream",
          "text": [
            "C:\\Users\\kaues\\AppData\\Local\\Temp\\ipykernel_13156\\454445906.py:3: FutureWarning: A value is trying to be set on a copy of a DataFrame or Series through chained assignment using an inplace method.\n",
            "The behavior will change in pandas 3.0. This inplace method will never work because the intermediate object on which we are setting values always behaves as a copy.\n",
            "\n",
            "For example, when doing 'df[col].method(value, inplace=True)', try using 'df.method({col: value}, inplace=True)' or df[col] = df[col].method(value) instead, to perform the operation inplace on the original object.\n",
            "\n",
            "\n",
            "  dataset['gross'].fillna(0, inplace=True)\n",
            "C:\\Users\\kaues\\AppData\\Local\\Temp\\ipykernel_13156\\454445906.py:4: FutureWarning: A value is trying to be set on a copy of a DataFrame or Series through chained assignment using an inplace method.\n",
            "The behavior will change in pandas 3.0. This inplace method will never work because the intermediate object on which we are setting values always behaves as a copy.\n",
            "\n",
            "For example, when doing 'df[col].method(value, inplace=True)', try using 'df.method({col: value}, inplace=True)' or df[col] = df[col].method(value) instead, to perform the operation inplace on the original object.\n",
            "\n",
            "\n",
            "  dataset['budget'].fillna(0, inplace=True)\n"
          ]
        }
      ],
      "source": [
        "# Agora, preenchemos os valores vazios de duas colunas numéricas: renda bruta (gross) e orçamento (budget) com 0's.\n",
        "\n",
        "dataset['gross'].fillna(0, inplace=True)\n",
        "dataset['budget'].fillna(0, inplace=True)"
      ]
    },
    {
      "cell_type": "code",
      "execution_count": 27,
      "metadata": {
        "colab": {
          "base_uri": "https://localhost:8080/",
          "height": 486
        },
        "id": "AhYDByxy0cyf",
        "outputId": "6d01258a-d341-4239-a0c2-41311cd96c0c"
      },
      "outputs": [
        {
          "data": {
            "text/html": [
              "<div>\n",
              "<style scoped>\n",
              "    .dataframe tbody tr th:only-of-type {\n",
              "        vertical-align: middle;\n",
              "    }\n",
              "\n",
              "    .dataframe tbody tr th {\n",
              "        vertical-align: top;\n",
              "    }\n",
              "\n",
              "    .dataframe thead th {\n",
              "        text-align: right;\n",
              "    }\n",
              "</style>\n",
              "<table border=\"1\" class=\"dataframe\">\n",
              "  <thead>\n",
              "    <tr style=\"text-align: right;\">\n",
              "      <th></th>\n",
              "      <th>director_name</th>\n",
              "      <th>duration</th>\n",
              "      <th>gross</th>\n",
              "      <th>genres</th>\n",
              "      <th>movie_title</th>\n",
              "      <th>title_year</th>\n",
              "      <th>country</th>\n",
              "      <th>budget</th>\n",
              "      <th>imdb_score</th>\n",
              "      <th>actors</th>\n",
              "      <th>movie_facebook_likes</th>\n",
              "    </tr>\n",
              "  </thead>\n",
              "  <tbody>\n",
              "    <tr>\n",
              "      <th>0</th>\n",
              "      <td>Martin Scorsese</td>\n",
              "      <td>240</td>\n",
              "      <td>116866727.0</td>\n",
              "      <td>Biography|Comedy|Crime|Drama</td>\n",
              "      <td>The Wolf of Wall Street</td>\n",
              "      <td>2013</td>\n",
              "      <td>USA</td>\n",
              "      <td>100000000.0</td>\n",
              "      <td>8.2</td>\n",
              "      <td>Leonardo DiCaprio,Matthew McConaughey,Jon Favreau</td>\n",
              "      <td>138000</td>\n",
              "    </tr>\n",
              "    <tr>\n",
              "      <th>1</th>\n",
              "      <td>Shane Black</td>\n",
              "      <td>195</td>\n",
              "      <td>408992272.0</td>\n",
              "      <td>Action|Adventure|Sci-Fi</td>\n",
              "      <td>Iron Man 3</td>\n",
              "      <td>2013</td>\n",
              "      <td>USA</td>\n",
              "      <td>200000000.0</td>\n",
              "      <td>7.2</td>\n",
              "      <td>Robert Downey Jr.,Jon Favreau,Don Cheadle</td>\n",
              "      <td>95000</td>\n",
              "    </tr>\n",
              "    <tr>\n",
              "      <th>2</th>\n",
              "      <td>Quentin Tarantino</td>\n",
              "      <td>187</td>\n",
              "      <td>54116191.0</td>\n",
              "      <td>Crime|Drama|Mystery|Thriller|Western</td>\n",
              "      <td>The Hateful Eight</td>\n",
              "      <td>2015</td>\n",
              "      <td>USA</td>\n",
              "      <td>44000000.0</td>\n",
              "      <td>7.9</td>\n",
              "      <td>Craig Stark,Jennifer Jason Leigh,Zoë Bell</td>\n",
              "      <td>114000</td>\n",
              "    </tr>\n",
              "    <tr>\n",
              "      <th>3</th>\n",
              "      <td>Kenneth Lonergan</td>\n",
              "      <td>186</td>\n",
              "      <td>46495.0</td>\n",
              "      <td>Drama</td>\n",
              "      <td>Margaret</td>\n",
              "      <td>2011</td>\n",
              "      <td>USA</td>\n",
              "      <td>14000000.0</td>\n",
              "      <td>6.5</td>\n",
              "      <td>Matt Damon,Kieran Culkin,John Gallagher Jr.</td>\n",
              "      <td>0</td>\n",
              "    </tr>\n",
              "    <tr>\n",
              "      <th>4</th>\n",
              "      <td>Peter Jackson</td>\n",
              "      <td>186</td>\n",
              "      <td>258355354.0</td>\n",
              "      <td>Adventure|Fantasy</td>\n",
              "      <td>The Hobbit: The Desolation of Smaug</td>\n",
              "      <td>2013</td>\n",
              "      <td>USA</td>\n",
              "      <td>225000000.0</td>\n",
              "      <td>7.9</td>\n",
              "      <td>Aidan Turner,Adam Brown,James Nesbitt</td>\n",
              "      <td>83000</td>\n",
              "    </tr>\n",
              "  </tbody>\n",
              "</table>\n",
              "</div>"
            ],
            "text/plain": [
              "       director_name  duration        gross  \\\n",
              "0    Martin Scorsese       240  116866727.0   \n",
              "1        Shane Black       195  408992272.0   \n",
              "2  Quentin Tarantino       187   54116191.0   \n",
              "3   Kenneth Lonergan       186      46495.0   \n",
              "4      Peter Jackson       186  258355354.0   \n",
              "\n",
              "                                 genres                          movie_title  \\\n",
              "0          Biography|Comedy|Crime|Drama              The Wolf of Wall Street   \n",
              "1               Action|Adventure|Sci-Fi                           Iron Man 3   \n",
              "2  Crime|Drama|Mystery|Thriller|Western                    The Hateful Eight   \n",
              "3                                 Drama                             Margaret   \n",
              "4                     Adventure|Fantasy  The Hobbit: The Desolation of Smaug   \n",
              "\n",
              "   title_year country       budget  imdb_score  \\\n",
              "0        2013     USA  100000000.0         8.2   \n",
              "1        2013     USA  200000000.0         7.2   \n",
              "2        2015     USA   44000000.0         7.9   \n",
              "3        2011     USA   14000000.0         6.5   \n",
              "4        2013     USA  225000000.0         7.9   \n",
              "\n",
              "                                              actors  movie_facebook_likes  \n",
              "0  Leonardo DiCaprio,Matthew McConaughey,Jon Favreau                138000  \n",
              "1          Robert Downey Jr.,Jon Favreau,Don Cheadle                 95000  \n",
              "2          Craig Stark,Jennifer Jason Leigh,Zoë Bell                114000  \n",
              "3        Matt Damon,Kieran Culkin,John Gallagher Jr.                     0  \n",
              "4              Aidan Turner,Adam Brown,James Nesbitt                 83000  "
            ]
          },
          "execution_count": 27,
          "metadata": {},
          "output_type": "execute_result"
        }
      ],
      "source": [
        "# Em seguida, unificamos os valores de outras colunas, como país, nome do diretor ou título do filme.\n",
        "\n",
        "# Colocando em maiúsculas todos os valores de países\n",
        "\n",
        "dataset['country'] = dataset['country'].str.upper()\n",
        "dataset['country'] = np.where(dataset['country']=='UNITED STATES','USA', dataset['country'])\n",
        "dataset.head()"
      ]
    },
    {
      "cell_type": "code",
      "execution_count": 28,
      "metadata": {
        "id": "54EvQMMj1SZV"
      },
      "outputs": [],
      "source": [
        "# Checando por entradas truncadas de dados\n",
        "\n",
        "dataset['director_name'] = np.where(dataset['director_name']=='N/A','', dataset['director_name'])\n",
        "dataset['director_name'] = np.where(dataset['director_name']=='NaN','', dataset['director_name'])\n",
        "dataset['director_name'] = np.where(dataset['director_name']=='Null','', dataset['director_name'])\n",
        "\n",
        "dataset['movie_title'] = dataset['movie_title'].str.replace('Â', '')\n"
      ]
    },
    {
      "cell_type": "code",
      "execution_count": 29,
      "metadata": {},
      "outputs": [
        {
          "data": {
            "text/html": [
              "<div>\n",
              "<style scoped>\n",
              "    .dataframe tbody tr th:only-of-type {\n",
              "        vertical-align: middle;\n",
              "    }\n",
              "\n",
              "    .dataframe tbody tr th {\n",
              "        vertical-align: top;\n",
              "    }\n",
              "\n",
              "    .dataframe thead th {\n",
              "        text-align: right;\n",
              "    }\n",
              "</style>\n",
              "<table border=\"1\" class=\"dataframe\">\n",
              "  <thead>\n",
              "    <tr style=\"text-align: right;\">\n",
              "      <th></th>\n",
              "      <th>director_name</th>\n",
              "      <th>duration</th>\n",
              "      <th>gross</th>\n",
              "      <th>genres</th>\n",
              "      <th>movie_title</th>\n",
              "      <th>title_year</th>\n",
              "      <th>country</th>\n",
              "      <th>budget</th>\n",
              "      <th>imdb_score</th>\n",
              "      <th>actors</th>\n",
              "      <th>movie_facebook_likes</th>\n",
              "    </tr>\n",
              "  </thead>\n",
              "  <tbody>\n",
              "    <tr>\n",
              "      <th>0</th>\n",
              "      <td>Martin Scorsese</td>\n",
              "      <td>240</td>\n",
              "      <td>116866727.0</td>\n",
              "      <td>Biography|Comedy|Crime|Drama</td>\n",
              "      <td>The Wolf of Wall Street</td>\n",
              "      <td>2013</td>\n",
              "      <td>USA</td>\n",
              "      <td>100000000.0</td>\n",
              "      <td>8.2</td>\n",
              "      <td>Leonardo DiCaprio,Matthew McConaughey,Jon Favreau</td>\n",
              "      <td>138000</td>\n",
              "    </tr>\n",
              "    <tr>\n",
              "      <th>1</th>\n",
              "      <td>Shane Black</td>\n",
              "      <td>195</td>\n",
              "      <td>408992272.0</td>\n",
              "      <td>Action|Adventure|Sci-Fi</td>\n",
              "      <td>Iron Man 3</td>\n",
              "      <td>2013</td>\n",
              "      <td>USA</td>\n",
              "      <td>200000000.0</td>\n",
              "      <td>7.2</td>\n",
              "      <td>Robert Downey Jr.,Jon Favreau,Don Cheadle</td>\n",
              "      <td>95000</td>\n",
              "    </tr>\n",
              "    <tr>\n",
              "      <th>2</th>\n",
              "      <td>Quentin Tarantino</td>\n",
              "      <td>187</td>\n",
              "      <td>54116191.0</td>\n",
              "      <td>Crime|Drama|Mystery|Thriller|Western</td>\n",
              "      <td>The Hateful Eight</td>\n",
              "      <td>2015</td>\n",
              "      <td>USA</td>\n",
              "      <td>44000000.0</td>\n",
              "      <td>7.9</td>\n",
              "      <td>Craig Stark,Jennifer Jason Leigh,Zoë Bell</td>\n",
              "      <td>114000</td>\n",
              "    </tr>\n",
              "    <tr>\n",
              "      <th>3</th>\n",
              "      <td>Kenneth Lonergan</td>\n",
              "      <td>186</td>\n",
              "      <td>46495.0</td>\n",
              "      <td>Drama</td>\n",
              "      <td>Margaret</td>\n",
              "      <td>2011</td>\n",
              "      <td>USA</td>\n",
              "      <td>14000000.0</td>\n",
              "      <td>6.5</td>\n",
              "      <td>Matt Damon,Kieran Culkin,John Gallagher Jr.</td>\n",
              "      <td>0</td>\n",
              "    </tr>\n",
              "    <tr>\n",
              "      <th>4</th>\n",
              "      <td>Peter Jackson</td>\n",
              "      <td>186</td>\n",
              "      <td>258355354.0</td>\n",
              "      <td>Adventure|Fantasy</td>\n",
              "      <td>The Hobbit: The Desolation of Smaug</td>\n",
              "      <td>2013</td>\n",
              "      <td>USA</td>\n",
              "      <td>225000000.0</td>\n",
              "      <td>7.9</td>\n",
              "      <td>Aidan Turner,Adam Brown,James Nesbitt</td>\n",
              "      <td>83000</td>\n",
              "    </tr>\n",
              "    <tr>\n",
              "      <th>...</th>\n",
              "      <td>...</td>\n",
              "      <td>...</td>\n",
              "      <td>...</td>\n",
              "      <td>...</td>\n",
              "      <td>...</td>\n",
              "      <td>...</td>\n",
              "      <td>...</td>\n",
              "      <td>...</td>\n",
              "      <td>...</td>\n",
              "      <td>...</td>\n",
              "      <td>...</td>\n",
              "    </tr>\n",
              "    <tr>\n",
              "      <th>94</th>\n",
              "      <td>Steve McQueen</td>\n",
              "      <td>134</td>\n",
              "      <td>56667870.0</td>\n",
              "      <td>Biography|Drama|History</td>\n",
              "      <td>12 Years a Slave</td>\n",
              "      <td>2013</td>\n",
              "      <td>USA</td>\n",
              "      <td>20000000.0</td>\n",
              "      <td>8.1</td>\n",
              "      <td>Quvenzhané Wallis,Scoot McNairy,Taran Killam</td>\n",
              "      <td>83000</td>\n",
              "    </tr>\n",
              "    <tr>\n",
              "      <th>95</th>\n",
              "      <td>Richard J. Lewis</td>\n",
              "      <td>134</td>\n",
              "      <td>7501404.0</td>\n",
              "      <td>Comedy|Drama</td>\n",
              "      <td>Barney's Version</td>\n",
              "      <td>2010</td>\n",
              "      <td>CANADA</td>\n",
              "      <td>0.0</td>\n",
              "      <td>7.3</td>\n",
              "      <td>Mark Addy,Atom Egoyan,Paul Gross</td>\n",
              "      <td>0</td>\n",
              "    </tr>\n",
              "    <tr>\n",
              "      <th>96</th>\n",
              "      <td>Paul Greengrass</td>\n",
              "      <td>134</td>\n",
              "      <td>107100855.0</td>\n",
              "      <td>Biography|Drama|Thriller</td>\n",
              "      <td>Captain Phillips</td>\n",
              "      <td>2013</td>\n",
              "      <td>USA</td>\n",
              "      <td>55000000.0</td>\n",
              "      <td>7.9</td>\n",
              "      <td>Tom Hanks,Chris Mulkey,Michael Chernus</td>\n",
              "      <td>65000</td>\n",
              "    </tr>\n",
              "    <tr>\n",
              "      <th>97</th>\n",
              "      <td>David Ayer</td>\n",
              "      <td>134</td>\n",
              "      <td>85707116.0</td>\n",
              "      <td>Action|Drama|War</td>\n",
              "      <td>Fury</td>\n",
              "      <td>2014</td>\n",
              "      <td>USA</td>\n",
              "      <td>68000000.0</td>\n",
              "      <td>7.6</td>\n",
              "      <td>Brad Pitt,Logan Lerman,Jim Parrack</td>\n",
              "      <td>82000</td>\n",
              "    </tr>\n",
              "    <tr>\n",
              "      <th>98</th>\n",
              "      <td>Clint Eastwood</td>\n",
              "      <td>5</td>\n",
              "      <td>47034272.0</td>\n",
              "      <td>Biography|Drama|Music|Musical</td>\n",
              "      <td>Jersey Boys</td>\n",
              "      <td>2014</td>\n",
              "      <td>USA</td>\n",
              "      <td>40000000.0</td>\n",
              "      <td>6.9</td>\n",
              "      <td>Johnny Cannizzaro,Steve Schirripa,Scott Vance</td>\n",
              "      <td>16000</td>\n",
              "    </tr>\n",
              "  </tbody>\n",
              "</table>\n",
              "<p>99 rows × 11 columns</p>\n",
              "</div>"
            ],
            "text/plain": [
              "        director_name  duration        gross  \\\n",
              "0     Martin Scorsese       240  116866727.0   \n",
              "1         Shane Black       195  408992272.0   \n",
              "2   Quentin Tarantino       187   54116191.0   \n",
              "3    Kenneth Lonergan       186      46495.0   \n",
              "4       Peter Jackson       186  258355354.0   \n",
              "..                ...       ...          ...   \n",
              "94      Steve McQueen       134   56667870.0   \n",
              "95   Richard J. Lewis       134    7501404.0   \n",
              "96    Paul Greengrass       134  107100855.0   \n",
              "97         David Ayer       134   85707116.0   \n",
              "98     Clint Eastwood         5   47034272.0   \n",
              "\n",
              "                                  genres                          movie_title  \\\n",
              "0           Biography|Comedy|Crime|Drama              The Wolf of Wall Street   \n",
              "1                Action|Adventure|Sci-Fi                           Iron Man 3   \n",
              "2   Crime|Drama|Mystery|Thriller|Western                    The Hateful Eight   \n",
              "3                                  Drama                             Margaret   \n",
              "4                      Adventure|Fantasy  The Hobbit: The Desolation of Smaug   \n",
              "..                                   ...                                  ...   \n",
              "94               Biography|Drama|History                     12 Years a Slave   \n",
              "95                          Comedy|Drama                     Barney's Version   \n",
              "96              Biography|Drama|Thriller                     Captain Phillips   \n",
              "97                      Action|Drama|War                                 Fury   \n",
              "98         Biography|Drama|Music|Musical                          Jersey Boys   \n",
              "\n",
              "    title_year country       budget  imdb_score  \\\n",
              "0         2013     USA  100000000.0         8.2   \n",
              "1         2013     USA  200000000.0         7.2   \n",
              "2         2015     USA   44000000.0         7.9   \n",
              "3         2011     USA   14000000.0         6.5   \n",
              "4         2013     USA  225000000.0         7.9   \n",
              "..         ...     ...          ...         ...   \n",
              "94        2013     USA   20000000.0         8.1   \n",
              "95        2010  CANADA          0.0         7.3   \n",
              "96        2013     USA   55000000.0         7.9   \n",
              "97        2014     USA   68000000.0         7.6   \n",
              "98        2014     USA   40000000.0         6.9   \n",
              "\n",
              "                                               actors  movie_facebook_likes  \n",
              "0   Leonardo DiCaprio,Matthew McConaughey,Jon Favreau                138000  \n",
              "1           Robert Downey Jr.,Jon Favreau,Don Cheadle                 95000  \n",
              "2           Craig Stark,Jennifer Jason Leigh,Zoë Bell                114000  \n",
              "3         Matt Damon,Kieran Culkin,John Gallagher Jr.                     0  \n",
              "4               Aidan Turner,Adam Brown,James Nesbitt                 83000  \n",
              "..                                                ...                   ...  \n",
              "94       Quvenzhané Wallis,Scoot McNairy,Taran Killam                 83000  \n",
              "95                   Mark Addy,Atom Egoyan,Paul Gross                     0  \n",
              "96             Tom Hanks,Chris Mulkey,Michael Chernus                 65000  \n",
              "97                 Brad Pitt,Logan Lerman,Jim Parrack                 82000  \n",
              "98      Johnny Cannizzaro,Steve Schirripa,Scott Vance                 16000  \n",
              "\n",
              "[99 rows x 11 columns]"
            ]
          },
          "execution_count": 29,
          "metadata": {},
          "output_type": "execute_result"
        }
      ],
      "source": [
        "dataset"
      ]
    },
    {
      "cell_type": "markdown",
      "metadata": {
        "id": "iDG_0KrLVcRa"
      },
      "source": [
        "\n",
        "Como mencionado, uma das soluções para lidar com os outliers é preencher as linhas correspondentes com os números apropriados.\n",
        "\n",
        "Por exemplo, a duração do filme em nosso conjunto de dados não pode ser inferior a 10 ou superior a 300 minutos.\n",
        "\n",
        "Para esses casos, preenchemos as células com valores zero."
      ]
    },
    {
      "cell_type": "code",
      "execution_count": 30,
      "metadata": {
        "colab": {
          "base_uri": "https://localhost:8080/",
          "height": 382
        },
        "id": "hYhURGMY3l96",
        "outputId": "dc2109cd-93da-4e63-e8b7-5c3e71af8d2c"
      },
      "outputs": [
        {
          "data": {
            "text/html": [
              "<div>\n",
              "<style scoped>\n",
              "    .dataframe tbody tr th:only-of-type {\n",
              "        vertical-align: middle;\n",
              "    }\n",
              "\n",
              "    .dataframe tbody tr th {\n",
              "        vertical-align: top;\n",
              "    }\n",
              "\n",
              "    .dataframe thead th {\n",
              "        text-align: right;\n",
              "    }\n",
              "</style>\n",
              "<table border=\"1\" class=\"dataframe\">\n",
              "  <thead>\n",
              "    <tr style=\"text-align: right;\">\n",
              "      <th></th>\n",
              "      <th>director_name</th>\n",
              "      <th>duration</th>\n",
              "      <th>gross</th>\n",
              "      <th>genres</th>\n",
              "      <th>movie_title</th>\n",
              "      <th>title_year</th>\n",
              "      <th>country</th>\n",
              "      <th>budget</th>\n",
              "      <th>imdb_score</th>\n",
              "      <th>movie_facebook_likes</th>\n",
              "      <th>actor1</th>\n",
              "      <th>actor2</th>\n",
              "      <th>actor3</th>\n",
              "    </tr>\n",
              "  </thead>\n",
              "  <tbody>\n",
              "    <tr>\n",
              "      <th>0</th>\n",
              "      <td>Martin Scorsese</td>\n",
              "      <td>240</td>\n",
              "      <td>116866727.0</td>\n",
              "      <td>Biography|Comedy|Crime|Drama</td>\n",
              "      <td>The Wolf of Wall Street</td>\n",
              "      <td>2013</td>\n",
              "      <td>USA</td>\n",
              "      <td>100000000.0</td>\n",
              "      <td>8.2</td>\n",
              "      <td>138000</td>\n",
              "      <td>Leonardo DiCaprio</td>\n",
              "      <td>Matthew McConaughey</td>\n",
              "      <td>Jon Favreau</td>\n",
              "    </tr>\n",
              "    <tr>\n",
              "      <th>1</th>\n",
              "      <td>Shane Black</td>\n",
              "      <td>195</td>\n",
              "      <td>408992272.0</td>\n",
              "      <td>Action|Adventure|Sci-Fi</td>\n",
              "      <td>Iron Man 3</td>\n",
              "      <td>2013</td>\n",
              "      <td>USA</td>\n",
              "      <td>200000000.0</td>\n",
              "      <td>7.2</td>\n",
              "      <td>95000</td>\n",
              "      <td>Robert Downey Jr.</td>\n",
              "      <td>Jon Favreau</td>\n",
              "      <td>Don Cheadle</td>\n",
              "    </tr>\n",
              "    <tr>\n",
              "      <th>2</th>\n",
              "      <td>Quentin Tarantino</td>\n",
              "      <td>187</td>\n",
              "      <td>54116191.0</td>\n",
              "      <td>Crime|Drama|Mystery|Thriller|Western</td>\n",
              "      <td>The Hateful Eight</td>\n",
              "      <td>2015</td>\n",
              "      <td>USA</td>\n",
              "      <td>44000000.0</td>\n",
              "      <td>7.9</td>\n",
              "      <td>114000</td>\n",
              "      <td>Craig Stark</td>\n",
              "      <td>Jennifer Jason Leigh</td>\n",
              "      <td>Zoë Bell</td>\n",
              "    </tr>\n",
              "    <tr>\n",
              "      <th>3</th>\n",
              "      <td>Kenneth Lonergan</td>\n",
              "      <td>186</td>\n",
              "      <td>46495.0</td>\n",
              "      <td>Drama</td>\n",
              "      <td>Margaret</td>\n",
              "      <td>2011</td>\n",
              "      <td>USA</td>\n",
              "      <td>14000000.0</td>\n",
              "      <td>6.5</td>\n",
              "      <td>0</td>\n",
              "      <td>Matt Damon</td>\n",
              "      <td>Kieran Culkin</td>\n",
              "      <td>John Gallagher Jr.</td>\n",
              "    </tr>\n",
              "    <tr>\n",
              "      <th>4</th>\n",
              "      <td>Peter Jackson</td>\n",
              "      <td>186</td>\n",
              "      <td>258355354.0</td>\n",
              "      <td>Adventure|Fantasy</td>\n",
              "      <td>The Hobbit: The Desolation of Smaug</td>\n",
              "      <td>2013</td>\n",
              "      <td>USA</td>\n",
              "      <td>225000000.0</td>\n",
              "      <td>7.9</td>\n",
              "      <td>83000</td>\n",
              "      <td>Aidan Turner</td>\n",
              "      <td>Adam Brown</td>\n",
              "      <td>James Nesbitt</td>\n",
              "    </tr>\n",
              "  </tbody>\n",
              "</table>\n",
              "</div>"
            ],
            "text/plain": [
              "       director_name  duration        gross  \\\n",
              "0    Martin Scorsese       240  116866727.0   \n",
              "1        Shane Black       195  408992272.0   \n",
              "2  Quentin Tarantino       187   54116191.0   \n",
              "3   Kenneth Lonergan       186      46495.0   \n",
              "4      Peter Jackson       186  258355354.0   \n",
              "\n",
              "                                 genres                          movie_title  \\\n",
              "0          Biography|Comedy|Crime|Drama              The Wolf of Wall Street   \n",
              "1               Action|Adventure|Sci-Fi                           Iron Man 3   \n",
              "2  Crime|Drama|Mystery|Thriller|Western                    The Hateful Eight   \n",
              "3                                 Drama                             Margaret   \n",
              "4                     Adventure|Fantasy  The Hobbit: The Desolation of Smaug   \n",
              "\n",
              "   title_year country       budget  imdb_score  movie_facebook_likes  \\\n",
              "0        2013     USA  100000000.0         8.2                138000   \n",
              "1        2013     USA  200000000.0         7.2                 95000   \n",
              "2        2015     USA   44000000.0         7.9                114000   \n",
              "3        2011     USA   14000000.0         6.5                     0   \n",
              "4        2013     USA  225000000.0         7.9                 83000   \n",
              "\n",
              "              actor1                actor2              actor3  \n",
              "0  Leonardo DiCaprio   Matthew McConaughey         Jon Favreau  \n",
              "1  Robert Downey Jr.           Jon Favreau         Don Cheadle  \n",
              "2        Craig Stark  Jennifer Jason Leigh            Zoë Bell  \n",
              "3         Matt Damon         Kieran Culkin  John Gallagher Jr.  \n",
              "4       Aidan Turner            Adam Brown       James Nesbitt  "
            ]
          },
          "execution_count": 30,
          "metadata": {},
          "output_type": "execute_result"
        }
      ],
      "source": [
        "# De modo a normalizar os dados, dividimos os atores em três atributos diferentes e eliminamos a coluna real da seguinte forma:\n",
        "\n",
        "actor_list = dataset['actors'].str.split(',',n=2 , expand = True)\n",
        "\n",
        "dataset[\"actor1\"]= actor_list[0]\n",
        "dataset[\"actor2\"]= actor_list[1]\n",
        "dataset[\"actor3\"]= actor_list[2]\n",
        "dataset.drop(columns=['actors'], inplace=True)\n",
        "dataset.head()"
      ]
    },
    {
      "cell_type": "code",
      "execution_count": 31,
      "metadata": {
        "id": "Rt5vWpx42NqH"
      },
      "outputs": [],
      "source": [
        "dataset['duration'] = np.where(dataset['duration']<=10,0, dataset['duration'])\n",
        "dataset['duration'] = np.where(dataset['duration']>300,0, dataset['duration'])\n",
        "dataset['imdb_score'] = np.where(dataset['imdb_score']<=0,0, dataset['imdb_score'])\n",
        "dataset['title_year'] = np.where(dataset['title_year']<2010,0, dataset['title_year'])"
      ]
    },
    {
      "cell_type": "code",
      "execution_count": 32,
      "metadata": {
        "id": "Xu4POW2V3_bb"
      },
      "outputs": [],
      "source": [
        "# E, finalmente, definimos uma nova métrica chamada GOB que mostra o orçamento bruto acima do orçamento para cada filme:\n",
        "\n",
        "# Adicione uma nova métrica GOB (Bruto acima do orçamento, Gross Over Budget)\n",
        "\n",
        "dataset['GOB'] = dataset.apply(lambda row: row['gross']/row['budget'] if row['budget']!=0 else 0, axis=1)\n",
        "top_GOB = dataset.sort_values('GOB',ascending=False).head(15)\n"
      ]
    },
    {
      "cell_type": "code",
      "execution_count": 33,
      "metadata": {
        "id": "b1-OtXJT5Wgo"
      },
      "outputs": [],
      "source": [
        "# Como temos os nomes completos dos diretores, adiciono outra coluna para encurtar seus nomes para melhor visualizá-los em um gráfico.\n",
        "# Pegamos a segunda parte do nome, que pode ser o sobrenome deles.\n",
        "\n",
        "top_GOB['director_familyName'] = dataset[\"director_name\"].str.split(\" \", n = 2, expand = True) [1]"
      ]
    },
    {
      "cell_type": "code",
      "execution_count": 34,
      "metadata": {
        "id": "Ln2VsA0h89En"
      },
      "outputs": [],
      "source": [
        "# Nova etapa: Visualização -  a próxima etapa é então visualizá-los em um gráfico de barras simples, como segue:\n",
        "\n",
        "import matplotlib.pyplot as plt\n",
        "import seaborn as sns"
      ]
    },
    {
      "cell_type": "code",
      "execution_count": 42,
      "metadata": {
        "colab": {
          "base_uri": "https://localhost:8080/",
          "height": 635
        },
        "id": "wPSEAL988t6w",
        "outputId": "13608d7c-5d41-4a1e-98a8-2af35b80656c"
      },
      "outputs": [
        {
          "name": "stderr",
          "output_type": "stream",
          "text": [
            "C:\\Users\\kaues\\AppData\\Local\\Temp\\ipykernel_13156\\2406295416.py:7: UserWarning: set_ticklabels() should only be used with a fixed number of ticks, i.e. after set_ticks() or using a FixedLocator.\n",
            "  ax.set_xticklabels(ax.get_xticklabels(), rotation=45)\n"
          ]
        },
        {
          "data": {
            "image/png": "[encoded data removed]",
            "text/plain": [
              "<Figure size 700x500 with 1 Axes>"
            ]
          },
          "metadata": {},
          "output_type": "display_data"
        }
      ],
      "source": [
        "fig,ax = plt.subplots(figsize=(7, 5))\n",
        "\n",
        "# Desenhando um gráfico de barras\n",
        "ax = sns.barplot(x='director_familyName', y='GOB', data=top_GOB)\n",
        "\n",
        "# Girando o nome dos diretores em 45 graus\n",
        "ax.set_xticklabels(ax.get_xticklabels(), rotation=45)\n",
        "\n",
        "# Título do nosso gráfico\n",
        "fig.suptitle('Principais diretores de cinema com maior GOB', fontsize=12)\n",
        "\n",
        "# Definindo o nome e o tamanho da fonte do rótulo dos eixos x e y\n",
        "ax.set_xlabel('Nome do Diretor',fontsize=20)\n",
        "ax.set_ylabel('Bruto Acima do Orçamento (GOB)',fontsize=20)\n",
        "\n",
        "# Definindo o tamanho do tick do eixo\n",
        "ax.tick_params(axis='x', labelsize=15)\n",
        "ax.tick_params(axis='y', labelsize=15)\n",
        "\n",
        "# Mostra o gráfico\n",
        "plt.show()"
      ]
    },
    {
      "cell_type": "code",
      "execution_count": 36,
      "metadata": {
        "colab": {
          "base_uri": "https://localhost:8080/",
          "height": 776
        },
        "id": "iguyEZ9z9wER",
        "outputId": "073c61e0-5c07-4ee3-c0cc-a044a8a44163"
      },
      "outputs": [
        {
          "name": "stderr",
          "output_type": "stream",
          "text": [
            "C:\\Users\\kaues\\AppData\\Local\\Temp\\ipykernel_13156\\3959270251.py:11: FutureWarning: The provided callable <function mean at 0x00000222628E5BC0> is currently using DataFrameGroupBy.mean. In a future version of pandas, the provided callable will be used directly. To keep current behavior pass the string \"mean\" instead.\n",
            "  dataset_pivot = top_GOB.pivot_table(index=['title_year'], values=['GOB'], aggfunc=np.mean ,margins=True)\n"
          ]
        },
        {
          "data": {
            "image/png": "[encoded data removed]",
            "text/plain": [
              "<Figure size 900x800 with 1 Axes>"
            ]
          },
          "metadata": {},
          "output_type": "display_data"
        }
      ],
      "source": [
        "# Vamos fazer uma análise de tendências baseada em Clustering?\n",
        "\n",
        "# Qual ano teve o maior GOB?\n",
        "\n",
        "# O próximo relatório mostra os anos com altas pontuações brutas acima do orçamento para todos os filmes.\n",
        "# Para fazer isso, devemos agrupar os registros com base em title_year.\n",
        "# A tabela dinâmica em Python é usada para agrupar colunas e agregá-las com base em colunas numéricas, conforme mostrado no código a seguir.\n",
        "\n",
        "# Dados de GOB com base no ano do filme\n",
        "\n",
        "dataset_pivot = top_GOB.pivot_table(index=['title_year'], values=['GOB'], aggfunc=np.mean ,margins=True)\n",
        "\n",
        "# A coluna do ano no conjunto de dados inclui alguns valores ausentes, iremos ignorá-los.\n",
        "\n",
        "# Algumas células estão vazias na coluna do ano\n",
        "\n",
        "# dataset_pivot = dataset_pivot.loc[dataset_pivot['title_year'] > 0]\n",
        "\n",
        "# Não precisamos do último registro que inclui a métrica de resumo\n",
        "\n",
        "dataset_pivot = dataset_pivot[:-1]\n",
        "\n",
        "# Como o índice mudou após a criação de uma tabela dinâmica, redefinimos o índice\n",
        "\n",
        "dataset_pivot.reset_index(inplace=True)\n",
        "\n",
        "# Algumas células estão vazias na coluna do ano\n",
        "\n",
        "# dataset_pivot =dataset_pivot.loc[dataset_pivot['title_year']>0]\n",
        "\n",
        "fig,ax = plt.subplots(figsize=(9, 8))\n",
        "ax=sns.barplot(x=\"title_year\", y=\"GOB\", data=dataset_pivot)\n",
        "fig.suptitle('GOB por meio dos anos', fontsize=12)\n",
        "plt.xlabel('Ano do filme')\n",
        "plt.show()"
      ]
    },
    {
      "cell_type": "markdown",
      "metadata": {
        "id": "bHX8p52KhFeM"
      },
      "source": [
        "# Podemos agrupar os filmes com base em suas pontuações GOB/IMDB?\n",
        "\n",
        "Diante do que fizemos até agora, podemos escolher um algoritmo de clustering para encontrar grupos de dados. A escolha do algoritmo depende de vários fatores, incluindo a natureza dos dados, tamanho dos dados, número e tipos de recursos em nosso conjunto de dados, etc.\n",
        "\n",
        "No exemplo, utilizaremos novamente o algoritmo K-Means, um dos algoritmos de cluster mais populares, que funciona iterativamente para atribuir cada ponto de dados a um dos 'K' grupos com base no\n",
        "recursos que são fornecidos.\n",
        "\n",
        "Em nosso conjunto de dados, procuramos uma relação entre uma pontuação GOB e IMDB para ver se podemos ou não agrupar filmes com base nessas duas métricas. Primeiro, precisamos especificar o número de clusters que procuramos.\n",
        "\n",
        "No exemplo, iremos escolher três. Se você visualizar seus dados em um gráfico de dispersão, poderá deduzir o número de grupos que poderá obter do algoritmo, mas se não, não se preocupe. Você pode alterar o número de clusters posteriormente e executar o algoritmo novamente para ver se obtém um resultado melhor ou não!\n",
        "\n",
        "Para tanto, acabei usando um gráfico de dispersão simples em Python para visualizar essas duas métricas (a pontuação GOB e IMDB) em um gráfico:"
      ]
    },
    {
      "cell_type": "code",
      "execution_count": 37,
      "metadata": {
        "colab": {
          "base_uri": "https://localhost:8080/",
          "height": 430
        },
        "id": "lYc8aw2z-yI0",
        "outputId": "fc57f7c1-cd16-4a60-a83a-17a671d0cec1"
      },
      "outputs": [
        {
          "data": {
            "image/png": "[encoded data removed]",
            "text/plain": [
              "<Figure size 640x480 with 1 Axes>"
            ]
          },
          "metadata": {},
          "output_type": "display_data"
        }
      ],
      "source": [
        "plt.scatter(x=dataset['imdb_score'], y=dataset['GOB'])\n",
        "plt.show()"
      ]
    },
    {
      "cell_type": "code",
      "execution_count": 38,
      "metadata": {
        "colab": {
          "base_uri": "https://localhost:8080/"
        },
        "id": "AlSF-mOZAU9p",
        "outputId": "f692d8d2-b79f-4a03-a889-05bd3506c027"
      },
      "outputs": [
        {
          "name": "stderr",
          "output_type": "stream",
          "text": [
            "c:\\Users\\kaues\\anaconda3\\Lib\\site-packages\\sklearn\\cluster\\_kmeans.py:1419: UserWarning: KMeans is known to have a memory leak on Windows with MKL, when there are less chunks than available threads. You can avoid it by setting the environment variable OMP_NUM_THREADS=1.\n",
            "  warnings.warn(\n"
          ]
        }
      ],
      "source": [
        "# Agora, vamos gerar clustering com três grupos.\n",
        "\n",
        "from sklearn.cluster import KMeans\n",
        "\n",
        "# Excluindo os valores ausentes e selecionando apenas a pontuação GOB e IMDB\n",
        "\n",
        "selected_dataset=dataset.loc[\n",
        "(dataset['GOB']>0) & dataset['imdb_score']>0][['imdb_score','GOB']]\n",
        "\n",
        "# Agrupando o conjunto de dados usando o algoritmo K-Means\n",
        "\n",
        "cls = KMeans(n_clusters=2)\n",
        "\n",
        "# Ajustar o modelo ao algoritmo\n",
        "\n",
        "cls.fit(selected_dataset)\n",
        "\n",
        "# Trazendo os centróides e o rótulo de cada grupo\n",
        "\n",
        "centroids=cls.cluster_centers_\n",
        "labels = cls.labels_\n",
        "\n",
        "# centroids\n",
        "# red = selected_dataset[labels == 1]\n",
        "# red\n",
        "# green = selected_dataset[labels == 0]\n",
        "# green"
      ]
    },
    {
      "cell_type": "code",
      "execution_count": 39,
      "metadata": {
        "colab": {
          "base_uri": "https://localhost:8080/",
          "height": 430
        },
        "id": "mHO6oCk2AjkQ",
        "outputId": "5b64813f-4818-4517-f13e-024e4d01b3b1"
      },
      "outputs": [
        {
          "data": {
            "image/png": "[encoded data removed]",
            "text/plain": [
              "<Figure size 640x480 with 1 Axes>"
            ]
          },
          "metadata": {},
          "output_type": "display_data"
        }
      ],
      "source": [
        "# Como próximo passo, vamos colorir os pontos com base em seus grupos e especificar o centro de cada grupo com um marcador (x).\n",
        "\n",
        "# Temos três clusters, uma cor para cada cluster\n",
        "\n",
        "colors = [\"g.\",\"r.\",\"b.\",\"y.\",\"p\"]\n",
        "\n",
        "# Criando uma matriz de cada conjunto de dados para percorrer os pontos\n",
        "\n",
        "dataset_array = np.array(selected_dataset)\n",
        "\n",
        "# plotando o ponto em um gráfico de dispersão\n",
        "\n",
        "for i in range(len(dataset_array)):\n",
        "    plt.plot(dataset_array[i][0], dataset_array[i][1], colors [labels[i]], markersize =25);\n",
        "    plt.scatter(centroids[:,0], centroids[:,1], marker='x', s=150);"
      ]
    },
    {
      "cell_type": "markdown",
      "metadata": {
        "id": "INcw3eJriMEQ"
      },
      "source": [
        "Vemos então três clusters na figura: o primeiro cluster (azul) são os filmes com pontuação GOB baixa (não venderam bem) e pontuação baixa no IMDB (não foram bem classificados pelos usuários do IMDB).\n",
        "\n",
        "O segundo grupo inclui os filmes com uma pontuação IMDB muito boa, mas não uma pontuação GOB muito alta. O terceiro cluster inclui poucos filmes com pontuações IMDB entre 7 e 8 e GOB muito alto.\n",
        "\n",
        "Lembrando que esse é um subconjunto de filmes, você pode ter uma interpretação melhor aplicando o algoritmo em todos os filmes."
      ]
    },
    {
      "cell_type": "code",
      "execution_count": 40,
      "metadata": {
        "id": "fGi03VEwBCgf"
      },
      "outputs": [],
      "source": [
        "# E você, será que consegue descobrir alguma relação entre a pontuação do IMDB e as curtidas de filmes no Facebook? O que mais podemos descobrir a partir desse dataset, não somente a partir de clustering?"
      ]
    },
    {
      "cell_type": "markdown",
      "metadata": {
        "id": "RttfkV4siTNh"
      },
      "source": [
        "Para encontrar uma relação entre uma pontuação do IMDB e curtidas no Facebook podemos, por exemplo, usar um algoritmo de regressão.\n",
        "\n",
        "Uma regressão linear simples pode ser usada para modelar a relação entre uma única variável independente de entrada (no nosso caso, curtidas no Facebook) e uma variável de saída (por exemplo, pontuação do IMDB) usando um modelo linear, ou seja, uma linha.\n",
        "\n",
        "Este é apenas um exemplo. Na realidade, podemos não encontrar uma relação linear entre duas variáveis num conjunto de dados."
      ]
    },
    {
      "cell_type": "code",
      "execution_count": 41,
      "metadata": {
        "id": "9UM2-xQPYuUd"
      },
      "outputs": [],
      "source": [
        "## RESPOSTA\n",
        "\n",
        "\n",
        "## RESPOSTA"
      ]
    }
  ],
  "metadata": {
    "colab": {
      "provenance": []
    },
    "kernelspec": {
      "display_name": "base",
      "language": "python",
      "name": "python3"
    },
    "language_info": {
      "codemirror_mode": {
        "name": "ipython",
        "version": 3
      },
      "file_extension": ".py",
      "mimetype": "text/x-python",
      "name": "python",
      "nbconvert_exporter": "python",
      "pygments_lexer": "ipython3",
      "version": "3.12.7"
    }
  },
  "nbformat": 4,
  "nbformat_minor": 0
}
