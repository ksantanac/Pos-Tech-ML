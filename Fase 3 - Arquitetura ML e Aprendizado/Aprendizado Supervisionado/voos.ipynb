{
 "cells": [
  {
   "cell_type": "code",
   "execution_count": null,
   "id": "1b31e0a0",
   "metadata": {},
   "outputs": [],
   "source": [
    "import requests\n",
    "import pandas as pd\n",
    "\n",
    "# 1. Coleta de dados da OpenSky\n",
    "url = \"https://opensky-network.org/api/states/all\"\n",
    "resp = requests.get(url).json()\n",
    "\n",
    "# Lista correta com 17 colunas\n",
    "columns = [\n",
    "    \"icao24\", \"callsign\", \"origin_country\", \"time_position\", \n",
    "    \"last_contact\", \"longitude\", \"latitude\", \"baro_altitude\", \n",
    "    \"on_ground\", \"velocity\", \"heading\", \"vertical_rate\", \"sensors\", \n",
    "    \"geo_altitude\", \"squawk\", \"spi\", \"position_source\"\n",
    "]\n",
    "\n",
    "# Criar DataFrame corretamente\n",
    "df = pd.DataFrame(resp[\"states\"], columns=columns)\n",
    "\n",
    "print(df.head())\n"
   ]
  },
  {
   "cell_type": "code",
   "execution_count": null,
   "id": "8547b954",
   "metadata": {},
   "outputs": [],
   "source": []
  },
  {
   "cell_type": "code",
   "execution_count": null,
   "id": "da8fa58d",
   "metadata": {},
   "outputs": [],
   "source": []
  }
 ],
 "metadata": {
  "language_info": {
   "name": "python"
  }
 },
 "nbformat": 4,
 "nbformat_minor": 5
}
