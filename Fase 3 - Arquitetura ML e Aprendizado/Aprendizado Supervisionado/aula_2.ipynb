{
 "cells": [
  {
   "cell_type": "code",
   "execution_count": 15,
   "id": "77d90bb8",
   "metadata": {},
   "outputs": [],
   "source": [
    "import pandas as pd\n",
    "import numpy as np\n",
    "\n",
    "import matplotlib.pyplot as plt"
   ]
  },
  {
   "cell_type": "code",
   "execution_count": 16,
   "id": "543974d3",
   "metadata": {},
   "outputs": [
    {
     "data": {
      "text/html": [
       "<div>\n",
       "<style scoped>\n",
       "    .dataframe tbody tr th:only-of-type {\n",
       "        vertical-align: middle;\n",
       "    }\n",
       "\n",
       "    .dataframe tbody tr th {\n",
       "        vertical-align: top;\n",
       "    }\n",
       "\n",
       "    .dataframe thead th {\n",
       "        text-align: right;\n",
       "    }\n",
       "</style>\n",
       "<table border=\"1\" class=\"dataframe\">\n",
       "  <thead>\n",
       "    <tr style=\"text-align: right;\">\n",
       "      <th></th>\n",
       "      <th>nome</th>\n",
       "      <th>simbolo</th>\n",
       "      <th>idade</th>\n",
       "    </tr>\n",
       "  </thead>\n",
       "  <tbody>\n",
       "    <tr>\n",
       "      <th>0</th>\n",
       "      <td>Peter</td>\n",
       "      <td>aranha</td>\n",
       "      <td>22</td>\n",
       "    </tr>\n",
       "    <tr>\n",
       "      <th>1</th>\n",
       "      <td>Bruce</td>\n",
       "      <td>morcego</td>\n",
       "      <td>NaT</td>\n",
       "    </tr>\n",
       "    <tr>\n",
       "      <th>2</th>\n",
       "      <td>T'Challa</td>\n",
       "      <td>pantera</td>\n",
       "      <td>25</td>\n",
       "    </tr>\n",
       "  </tbody>\n",
       "</table>\n",
       "</div>"
      ],
      "text/plain": [
       "       nome  simbolo idade\n",
       "0     Peter   aranha    22\n",
       "1     Bruce  morcego   NaT\n",
       "2  T'Challa  pantera    25"
      ]
     },
     "execution_count": 16,
     "metadata": {},
     "output_type": "execute_result"
    }
   ],
   "source": [
    "df = pd.DataFrame({\n",
    "    \"nome\": ['Peter', 'Bruce', \"T'Challa\"],\n",
    "    \"simbolo\": ['aranha', 'morcego', 'pantera'],\n",
    "    \"idade\": [22, pd.NaT, 25]\n",
    "    })\n",
    "\n",
    "df"
   ]
  },
  {
   "cell_type": "code",
   "execution_count": 17,
   "id": "276663b3",
   "metadata": {},
   "outputs": [
    {
     "data": {
      "text/html": [
       "<div>\n",
       "<style scoped>\n",
       "    .dataframe tbody tr th:only-of-type {\n",
       "        vertical-align: middle;\n",
       "    }\n",
       "\n",
       "    .dataframe tbody tr th {\n",
       "        vertical-align: top;\n",
       "    }\n",
       "\n",
       "    .dataframe thead th {\n",
       "        text-align: right;\n",
       "    }\n",
       "</style>\n",
       "<table border=\"1\" class=\"dataframe\">\n",
       "  <thead>\n",
       "    <tr style=\"text-align: right;\">\n",
       "      <th></th>\n",
       "      <th>nome</th>\n",
       "      <th>simbolo</th>\n",
       "      <th>idade</th>\n",
       "    </tr>\n",
       "  </thead>\n",
       "  <tbody>\n",
       "    <tr>\n",
       "      <th>0</th>\n",
       "      <td>Peter</td>\n",
       "      <td>aranha</td>\n",
       "      <td>22</td>\n",
       "    </tr>\n",
       "    <tr>\n",
       "      <th>2</th>\n",
       "      <td>T'Challa</td>\n",
       "      <td>pantera</td>\n",
       "      <td>25</td>\n",
       "    </tr>\n",
       "  </tbody>\n",
       "</table>\n",
       "</div>"
      ],
      "text/plain": [
       "       nome  simbolo idade\n",
       "0     Peter   aranha    22\n",
       "2  T'Challa  pantera    25"
      ]
     },
     "execution_count": 17,
     "metadata": {},
     "output_type": "execute_result"
    }
   ],
   "source": [
    "df.dropna()"
   ]
  },
  {
   "cell_type": "code",
   "execution_count": 18,
   "id": "f16eb87e",
   "metadata": {},
   "outputs": [],
   "source": [
    "df.dropna(inplace=True)"
   ]
  },
  {
   "cell_type": "code",
   "execution_count": 19,
   "id": "53394aab",
   "metadata": {},
   "outputs": [
    {
     "data": {
      "text/html": [
       "<div>\n",
       "<style scoped>\n",
       "    .dataframe tbody tr th:only-of-type {\n",
       "        vertical-align: middle;\n",
       "    }\n",
       "\n",
       "    .dataframe tbody tr th {\n",
       "        vertical-align: top;\n",
       "    }\n",
       "\n",
       "    .dataframe thead th {\n",
       "        text-align: right;\n",
       "    }\n",
       "</style>\n",
       "<table border=\"1\" class=\"dataframe\">\n",
       "  <thead>\n",
       "    <tr style=\"text-align: right;\">\n",
       "      <th></th>\n",
       "      <th>nome</th>\n",
       "      <th>simbolo</th>\n",
       "      <th>idade</th>\n",
       "    </tr>\n",
       "  </thead>\n",
       "  <tbody>\n",
       "    <tr>\n",
       "      <th>0</th>\n",
       "      <td>Peter</td>\n",
       "      <td>aranha</td>\n",
       "      <td>22</td>\n",
       "    </tr>\n",
       "    <tr>\n",
       "      <th>2</th>\n",
       "      <td>T'Challa</td>\n",
       "      <td>pantera</td>\n",
       "      <td>25</td>\n",
       "    </tr>\n",
       "  </tbody>\n",
       "</table>\n",
       "</div>"
      ],
      "text/plain": [
       "       nome  simbolo idade\n",
       "0     Peter   aranha    22\n",
       "2  T'Challa  pantera    25"
      ]
     },
     "execution_count": 19,
     "metadata": {},
     "output_type": "execute_result"
    }
   ],
   "source": [
    "df"
   ]
  },
  {
   "cell_type": "markdown",
   "id": "9e43e4ce",
   "metadata": {},
   "source": [
    "## RMSE"
   ]
  },
  {
   "cell_type": "markdown",
   "id": "305e8c99",
   "metadata": {},
   "source": [
    "### Manual"
   ]
  },
  {
   "cell_type": "code",
   "execution_count": 20,
   "id": "deaed8f3",
   "metadata": {},
   "outputs": [
    {
     "name": "stdout",
     "output_type": "stream",
     "text": [
      "MSE: 87800000.0 RMSE: 9370.165420097983\n"
     ]
    }
   ],
   "source": [
    "import numpy as np\n",
    "\n",
    "# Valores reais\n",
    "reais = [100000, 150000, 200000, 250000, 300000]\n",
    "\n",
    "# Valores previstos pelo modelo\n",
    "prev = [95000, 142000, 210000, 245000, 315000]\n",
    "\n",
    "# Cálculo do RMSE\n",
    "diferencas = [r - p for r, p in zip(reais, prev)]\n",
    "quadrados_das_diferencas = [d ** 2 for d in diferencas]\n",
    "mse = np.mean(quadrados_das_diferencas)\n",
    "rmse = np.sqrt(mse)\n",
    "\n",
    "print(f\"MSE: {mse} RMSE: {rmse}\")"
   ]
  },
  {
   "cell_type": "markdown",
   "id": "f021fd10",
   "metadata": {},
   "source": [
    "### Sklearn"
   ]
  },
  {
   "cell_type": "code",
   "execution_count": 21,
   "id": "509da15f",
   "metadata": {},
   "outputs": [
    {
     "name": "stdout",
     "output_type": "stream",
     "text": [
      "Erro Quadrático Médio: 87800000.0\n",
      "Raiz do Erro Quadrático Médio: 9370.165420097983\n"
     ]
    }
   ],
   "source": [
    "from sklearn.metrics import mean_squared_error\n",
    "\n",
    "# Valores reais\n",
    "reais = [100000, 150000, 200000, 250000, 300000]\n",
    "\n",
    "# Valores previstos pelo modelo\n",
    "prev = [95000, 142000, 210000, 245000, 315000]\n",
    "\n",
    "# Cálculo do erro quadrático médio\n",
    "mse = mean_squared_error(reais, prev)\n",
    "rmse = np.sqrt(mse)\n",
    "print(f\"Erro Quadrático Médio: {mse}\")\n",
    "print(f\"Raiz do Erro Quadrático Médio: {rmse}\")"
   ]
  },
  {
   "cell_type": "markdown",
   "id": "a8ff708c",
   "metadata": {},
   "source": [
    "## MAPE - Erro percentual absoluto médio"
   ]
  },
  {
   "cell_type": "markdown",
   "id": "1d916075",
   "metadata": {},
   "source": [
    "### Manual"
   ]
  },
  {
   "cell_type": "code",
   "execution_count": 22,
   "id": "5890821e",
   "metadata": {},
   "outputs": [],
   "source": [
    "# Valores reais\n",
    "reais = [100000, 150000, 200000, 250000, 300000]\n",
    "\n",
    "# Valores previstos pelo modelo\n",
    "prev = [95000, 142000, 210000, 245000, 315000]"
   ]
  },
  {
   "cell_type": "code",
   "execution_count": 23,
   "id": "cb6f96ed",
   "metadata": {},
   "outputs": [],
   "source": [
    "erro_absoluto_percentual = []"
   ]
  },
  {
   "cell_type": "code",
   "execution_count": 29,
   "id": "3d13eacf",
   "metadata": {},
   "outputs": [],
   "source": [
    "for r, p in zip(reais, prev):\n",
    "    erro_absoluto_percentual.append(abs(r - p) / r * 100)\n"
   ]
  },
  {
   "cell_type": "code",
   "execution_count": 30,
   "id": "924e190a",
   "metadata": {},
   "outputs": [
    {
     "data": {
      "text/plain": [
       "[5.0, 5.333333333333334, 5.0, 2.0, 5.0]"
      ]
     },
     "execution_count": 30,
     "metadata": {},
     "output_type": "execute_result"
    }
   ],
   "source": [
    "erro_absoluto_percentual"
   ]
  },
  {
   "cell_type": "code",
   "execution_count": 31,
   "id": "cdc81790",
   "metadata": {},
   "outputs": [],
   "source": [
    "mape = (sum(erro_absoluto_percentual) / len(erro_absoluto_percentual)) * 100"
   ]
  },
  {
   "cell_type": "code",
   "execution_count": 32,
   "id": "b2ab7a87",
   "metadata": {},
   "outputs": [
    {
     "data": {
      "text/plain": [
       "446.6666666666667"
      ]
     },
     "execution_count": 32,
     "metadata": {},
     "output_type": "execute_result"
    }
   ],
   "source": [
    "mape"
   ]
  },
  {
   "cell_type": "markdown",
   "id": "850399d8",
   "metadata": {},
   "source": [
    "### Sklearn"
   ]
  },
  {
   "cell_type": "code",
   "execution_count": 33,
   "id": "f61c0dcc",
   "metadata": {},
   "outputs": [
    {
     "data": {
      "text/plain": [
       "0.04466666666666667"
      ]
     },
     "execution_count": 33,
     "metadata": {},
     "output_type": "execute_result"
    }
   ],
   "source": [
    "from sklearn.metrics import mean_absolute_percentage_error\n",
    "\n",
    "# Valores reais\n",
    "reais = [100000, 150000, 200000, 250000, 300000]\n",
    "\n",
    "# Valores previstos pelo modelo\n",
    "prev = [95000, 142000, 210000, 245000, 315000]\n",
    "\n",
    "mape = mean_absolute_percentage_error(reais, prev)\n",
    "\n",
    "mape"
   ]
  },
  {
   "cell_type": "markdown",
   "id": "5f20c292",
   "metadata": {},
   "source": [
    "## Imputação de valores faltantes"
   ]
  },
  {
   "cell_type": "code",
   "execution_count": 35,
   "id": "aaf445c4",
   "metadata": {},
   "outputs": [
    {
     "name": "stdout",
     "output_type": "stream",
     "text": [
      "Dados após imputação: \n",
      "[[ 1.  2.  3.  7.]\n",
      " [ 4.  2.  6.  7.]\n",
      " [ 8.  9. 10. 11.]]\n"
     ]
    }
   ],
   "source": [
    "import numpy as np\n",
    "from sklearn.impute import SimpleImputer\n",
    "\n",
    "# Dados com valores ausentes\n",
    "dados = np.array([\n",
    "    [1, 2, 3, np.nan],\n",
    "    [4, np.nan, 6, 7],\n",
    "    [8, 9, 10, 11]\n",
    "    ])\n",
    "\n",
    "# Imputação com a média das colunas\n",
    "# imputador = SimpleImputer(missing_values=np.nan, strategy='mean')\n",
    "imputador = SimpleImputer(missing_values=np.nan, strategy='most_frequent')\n",
    "dados_imputados = imputador.fit_transform(dados)\n",
    "\n",
    "print(f\"Dados após imputação: \\n{dados_imputados}\")"
   ]
  },
  {
   "cell_type": "markdown",
   "id": "5fcdf3a2",
   "metadata": {},
   "source": [
    "## Identificação de Outliers - Dados descrepantes"
   ]
  },
  {
   "cell_type": "code",
   "execution_count": 36,
   "id": "f874f047",
   "metadata": {},
   "outputs": [
    {
     "name": "stdout",
     "output_type": "stream",
     "text": [
      "Outliers por IQR: [5]\n"
     ]
    }
   ],
   "source": [
    "import numpy as np\n",
    "\t\n",
    "dados = np.array([1, 2, 3, 4, 5, 100])\n",
    "\n",
    "# quartis\n",
    "q1 = np.percentile(dados, 25)\n",
    "q3 = np.percentile(dados, 75)\n",
    "iqr = q3 - q1\n",
    "\n",
    "# Limite inferior e superior\n",
    "limite_inf = q1 - 1.5 * iqr\n",
    "limite_sup = q3 + 1.5 * iqr\n",
    "\n",
    "outliers = np.where((dados < limite_inf) | (dados > limite_sup))[0]\n",
    "\n",
    "print(f\"Outliers por IQR: {outliers}\")"
   ]
  },
  {
   "cell_type": "code",
   "execution_count": 26,
   "id": "d7c543bf",
   "metadata": {},
   "outputs": [
    {
     "name": "stdout",
     "output_type": "stream",
     "text": [
      "Nova lista sem outlier: [1 2 3 4 5]\n"
     ]
    }
   ],
   "source": [
    "print(f\"Nova lista sem outlier: {np.delete(dados, 5)}\")"
   ]
  },
  {
   "cell_type": "markdown",
   "id": "68f39d19",
   "metadata": {},
   "source": [
    "## Normalização de Dados"
   ]
  },
  {
   "cell_type": "code",
   "execution_count": 37,
   "id": "dc4d60bb",
   "metadata": {},
   "outputs": [
    {
     "name": "stdout",
     "output_type": "stream",
     "text": [
      "Dados normalizados: [[0.25  0.375 0.625 0.75  0.875 0.5   1.    0.875 0.75 ]]\n"
     ]
    }
   ],
   "source": [
    "from sklearn.preprocessing import normalize\n",
    "\n",
    "# Dados a serem normalizados/padronizados\n",
    "dados = np.array([2, 3, 5, 6, 7, 4, 8, 7, 6])\n",
    "\n",
    "# Normalização entre 0 e 1\n",
    "dados_normalizados = normalize([dados], norm='max')\n",
    "\n",
    "print(f\"Dados normalizados: {dados_normalizados}\")"
   ]
  },
  {
   "cell_type": "markdown",
   "id": "0fd7fbb6",
   "metadata": {},
   "source": [
    "## Padronização de Dados"
   ]
  },
  {
   "cell_type": "markdown",
   "id": "f48fc66b",
   "metadata": {},
   "source": [
    "### StandardScaler"
   ]
  },
  {
   "cell_type": "code",
   "execution_count": 40,
   "id": "7a45ddde",
   "metadata": {},
   "outputs": [
    {
     "name": "stdout",
     "output_type": "stream",
     "text": [
      "Dados padronizados: \n",
      "[[-1.22474487 -1.22474487 -1.22474487]\n",
      " [ 0.          0.          0.        ]\n",
      " [ 1.22474487  1.22474487  1.22474487]]\n"
     ]
    }
   ],
   "source": [
    "from sklearn.preprocessing import StandardScaler\n",
    "\n",
    "dados = np.array([[1, 2, 3], [4, 5, 6], [7, 8, 9]])\n",
    "\n",
    "padronizador = StandardScaler()\n",
    "dados_padronizados = padronizador.fit_transform(dados)\n",
    "\n",
    "print(f\"Dados padronizados: \\n{dados_padronizados}\")"
   ]
  },
  {
   "cell_type": "markdown",
   "id": "85698739",
   "metadata": {},
   "source": [
    "### Categorização"
   ]
  },
  {
   "cell_type": "code",
   "execution_count": 41,
   "id": "408fde63",
   "metadata": {},
   "outputs": [
    {
     "name": "stdout",
     "output_type": "stream",
     "text": [
      "Dados one-hot encoding: \n",
      "[[1. 0. 0.]\n",
      " [0. 1. 0.]\n",
      " [0. 0. 1.]\n",
      " [1. 0. 0.]\n",
      " [0. 1. 0.]]\n",
      "\n",
      "Dados label encoding: \n",
      "[0 1 2 0 1]\n"
     ]
    }
   ],
   "source": [
    "from sklearn.preprocessing import OneHotEncoder, LabelEncoder\n",
    "\n",
    "# Dados categóricos\n",
    "dados_categóricos = np.array(['A', 'B', 'C', 'A', 'B'])\n",
    "\n",
    "# Codificação one-hot encoding\n",
    "codific_one_hot = OneHotEncoder()\n",
    "dados_one_hot=codific_one_hot.fit_transform(dados_categóricos.reshape(-1, 1))\n",
    "\n",
    "print(f\"Dados one-hot encoding: \\n{dados_one_hot.toarray()}\")\n",
    "\n",
    "# Codificação de label encoding\n",
    "codificador_label = LabelEncoder()\n",
    "dados_label=codificador_label.fit_transform(dados_categóricos)\n",
    "\n",
    "print(f\"\\nDados label encoding: \\n{dados_label}\")"
   ]
  },
  {
   "cell_type": "markdown",
   "id": "8bb03bc1",
   "metadata": {},
   "source": [
    "## Calculo das métricas de acuracia, precisao, revocacao e f1-score"
   ]
  },
  {
   "cell_type": "code",
   "execution_count": 42,
   "id": "dc6950ee",
   "metadata": {},
   "outputs": [],
   "source": [
    "total = 1000\n",
    "vp = 150\n",
    "vn = 700\n",
    "fp = 50\n",
    "fn = 50"
   ]
  },
  {
   "cell_type": "markdown",
   "id": "a141da6f",
   "metadata": {},
   "source": [
    "## Acurácia"
   ]
  },
  {
   "cell_type": "code",
   "execution_count": 44,
   "id": "280ae40c",
   "metadata": {},
   "outputs": [
    {
     "name": "stdout",
     "output_type": "stream",
     "text": [
      "Acurácia: 0.15\n"
     ]
    }
   ],
   "source": [
    "acuracia = vp / total\n",
    "print(f\"Acurácia: {acuracia}\")"
   ]
  },
  {
   "cell_type": "markdown",
   "id": "f40c3a32",
   "metadata": {},
   "source": [
    "## Precisão"
   ]
  },
  {
   "cell_type": "code",
   "execution_count": 45,
   "id": "1b620034",
   "metadata": {},
   "outputs": [
    {
     "name": "stdout",
     "output_type": "stream",
     "text": [
      "Precisão: 0.75\n"
     ]
    }
   ],
   "source": [
    "precisao = vp / (vp + fp)\n",
    "print(f\"Precisão: {precisao}\")\n"
   ]
  },
  {
   "cell_type": "markdown",
   "id": "7c94e034",
   "metadata": {},
   "source": [
    "## Revocação"
   ]
  },
  {
   "cell_type": "code",
   "execution_count": 46,
   "id": "a8936248",
   "metadata": {},
   "outputs": [
    {
     "name": "stdout",
     "output_type": "stream",
     "text": [
      "Revocação: 0.75\n"
     ]
    }
   ],
   "source": [
    "revocacao = vp / (vp + fn)\n",
    "print(f\"Revocação: {revocacao}\")"
   ]
  },
  {
   "cell_type": "markdown",
   "id": "65a89b20",
   "metadata": {},
   "source": [
    "## f1-score"
   ]
  },
  {
   "cell_type": "code",
   "execution_count": 47,
   "id": "ba1b9362",
   "metadata": {},
   "outputs": [
    {
     "name": "stdout",
     "output_type": "stream",
     "text": [
      "F1 Score: 0.75\n"
     ]
    }
   ],
   "source": [
    "f1 = 2 * (precisao * revocacao) / (precisao + revocacao)\n",
    "print(f\"F1 Score: {f1}\")\n"
   ]
  },
  {
   "cell_type": "markdown",
   "id": "a6d0581f",
   "metadata": {},
   "source": [
    "### Exemplos de Métricas de Avaliação"
   ]
  },
  {
   "cell_type": "code",
   "execution_count": 49,
   "id": "8630595a",
   "metadata": {},
   "outputs": [
    {
     "name": "stdout",
     "output_type": "stream",
     "text": [
      "Acurária: 0.25\n",
      "Precisão: 0.3333333333333333\n",
      "Revocação: 0.5\n",
      "F1-Score: 0.4\n"
     ]
    }
   ],
   "source": [
    "from sklearn.metrics import accuracy_score, precision_score, recall_score, f1_score\n",
    "\n",
    "y_real = [1, 0, 1, 0]\n",
    "\n",
    "# Previsões do modelo (código de obtenção das previsões do modelo)\n",
    "y_pred = [0, 1, 1, 1]\n",
    "\n",
    "# Métricas de avaliação\n",
    "print(f'Acurária: {accuracy_score(y_real, y_pred)}')\n",
    "print(f'Precisão: {precision_score(y_real, y_pred)}')\n",
    "print(f'Revocação: {recall_score(y_real, y_pred)}')\n",
    "print(f'F1-Score: {f1_score(y_real, y_pred)}')"
   ]
  },
  {
   "cell_type": "code",
   "execution_count": 50,
   "id": "87b6b710",
   "metadata": {},
   "outputs": [
    {
     "name": "stdout",
     "output_type": "stream",
     "text": [
      "              precision    recall  f1-score   support\n",
      "\n",
      "    Classe 0       0.00      0.00      0.00         2\n",
      "    Classe 1       0.33      0.50      0.40         2\n",
      "\n",
      "    accuracy                           0.25         4\n",
      "   macro avg       0.17      0.25      0.20         4\n",
      "weighted avg       0.17      0.25      0.20         4\n",
      "\n"
     ]
    }
   ],
   "source": [
    "from sklearn.metrics import classification_report\n",
    "\n",
    "target_names = ['Classe 0', 'Classe 1']\n",
    "\n",
    "print(classification_report(y_real, y_pred, target_names=target_names))"
   ]
  },
  {
   "cell_type": "markdown",
   "id": "fb0fe470",
   "metadata": {},
   "source": [
    "## Matriz de Confusão"
   ]
  },
  {
   "cell_type": "markdown",
   "id": "3eef662a",
   "metadata": {},
   "source": [
    "### Modelo para classificar imagens de cachorro"
   ]
  },
  {
   "cell_type": "code",
   "execution_count": 51,
   "id": "1694f478",
   "metadata": {},
   "outputs": [
    {
     "name": "stdout",
     "output_type": "stream",
     "text": [
      "Matriz de Confusão:\n",
      "[[1 1]\n",
      " [2 0]]\n"
     ]
    }
   ],
   "source": [
    "from sklearn.metrics import confusion_matrix\n",
    "\n",
    "y_real_animais = [\"cachorro\", \"gato\", \"cachorro\", \"gato\"]\n",
    "y_pred_animais = [\"gato\", \"cachorro\", \"cachorro\", \"cachorro\"]\n",
    "\n",
    "# Matriz de confusão\n",
    "cm = confusion_matrix(y_real_animais, y_pred_animais, labels=[\"cachorro\", \"gato\"])\n",
    "print(\"Matriz de Confusão:\")\n",
    "print(cm)"
   ]
  },
  {
   "cell_type": "code",
   "execution_count": 53,
   "id": "d1c392a8",
   "metadata": {},
   "outputs": [
    {
     "data": {
      "image/png": "[encoded data removed]",
      "text/plain": [
       "<Figure size 640x480 with 2 Axes>"
      ]
     },
     "metadata": {},
     "output_type": "display_data"
    }
   ],
   "source": [
    "from sklearn.metrics import confusion_matrix, ConfusionMatrixDisplay\n",
    "\n",
    "cm = confusion_matrix(y_real_animais, y_pred_animais, labels=[\"cachorro\", \"gato\"])\n",
    "disp = ConfusionMatrixDisplay(confusion_matrix=cm, display_labels=[\"cachorro\", \"gato\"])\n",
    "disp.plot()\n",
    "plt.show()"
   ]
  }
 ],
 "metadata": {
  "kernelspec": {
   "display_name": "base",
   "language": "python",
   "name": "python3"
  },
  "language_info": {
   "codemirror_mode": {
    "name": "ipython",
    "version": 3
   },
   "file_extension": ".py",
   "mimetype": "text/x-python",
   "name": "python",
   "nbconvert_exporter": "python",
   "pygments_lexer": "ipython3",
   "version": "3.12.7"
  }
 },
 "nbformat": 4,
 "nbformat_minor": 5
}
