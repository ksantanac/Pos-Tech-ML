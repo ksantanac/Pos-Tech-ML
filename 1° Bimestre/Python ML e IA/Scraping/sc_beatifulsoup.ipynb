{
 "cells": [
  {
   "cell_type": "code",
   "execution_count": 1,
   "metadata": {},
   "outputs": [],
   "source": [
    "import requests\n",
    "import pandas as pd\n",
    "\n",
    "from bs4 import BeautifulSoup"
   ]
  },
  {
   "cell_type": "code",
   "execution_count": 2,
   "metadata": {},
   "outputs": [
    {
     "name": "stdout",
     "output_type": "stream",
     "text": [
      "Página obtida com sucesso!\n"
     ]
    }
   ],
   "source": [
    "url = \"https://www.google.com\"\n",
    "response = requests.get(url)\n",
    "\n",
    "if response.status_code == 200:\n",
    "    html_content = response.text\n",
    "    print(\"Página obtida com sucesso!\")\n",
    "else:\n",
    "    print(f\"Erro ao acessar a página de link '{url}'\")"
   ]
  },
  {
   "cell_type": "code",
   "execution_count": 3,
   "metadata": {},
   "outputs": [],
   "source": [
    "soup = BeautifulSoup(html_content, 'html.parser')"
   ]
  },
  {
   "cell_type": "code",
   "execution_count": 5,
   "metadata": {},
   "outputs": [
    {
     "name": "stdout",
     "output_type": "stream",
     "text": [
      "<title>Google</title>\n",
      "Google\n"
     ]
    }
   ],
   "source": [
    "print(soup.title) \n",
    "print(soup.title.string) "
   ]
  },
  {
   "cell_type": "code",
   "execution_count": 6,
   "metadata": {},
   "outputs": [],
   "source": [
    "for i in range(1, 7):\n",
    "    headers = soup.find_all(f'h{i}')\n",
    "    \n",
    "    for header in headers:\n",
    "        print(f'h{i}: {header.get_text(strip=True)}')"
   ]
  },
  {
   "cell_type": "markdown",
   "metadata": {},
   "source": [
    "### Extraindo todos links da página"
   ]
  },
  {
   "cell_type": "code",
   "execution_count": 8,
   "metadata": {},
   "outputs": [
    {
     "name": "stdout",
     "output_type": "stream",
     "text": [
      "Total de liks encontrados: 18\n",
      "\n",
      "Texto: Imagens | URL: https://www.google.com/imghp?hl=pt-BR&tab=wi\n",
      "Texto: Maps | URL: https://maps.google.com.br/maps?hl=pt-BR&tab=wl\n",
      "Texto: Play | URL: https://play.google.com/?hl=pt-BR&tab=w8\n",
      "Texto: YouTube | URL: https://www.youtube.com/?tab=w1\n",
      "Texto: Notícias | URL: https://news.google.com/?tab=wn\n",
      "Texto: Gmail | URL: https://mail.google.com/mail/?tab=wm\n",
      "Texto: Drive | URL: https://drive.google.com/?tab=wo\n",
      "Texto: Mais» | URL: https://www.google.com.br/intl/pt-BR/about/products?tab=wh\n",
      "Texto: Histórico da Web | URL: http://www.google.com.br/history/optout?hl=pt-BR\n",
      "Texto: Configurações | URL: /preferences?hl=pt-BR\n"
     ]
    }
   ],
   "source": [
    "links = soup.find_all('a')\n",
    "print(f\"Total de liks encontrados: {len(links)}\\n\")\n",
    "\n",
    "if links:\n",
    "    for link in links[:10]:\n",
    "        href = link.get('href')\n",
    "        text = link.get_text(strip=True)\n",
    "        print(f'Texto: {text} | URL: {href}')"
   ]
  },
  {
   "cell_type": "markdown",
   "metadata": {},
   "source": [
    "### Buscando classe"
   ]
  },
  {
   "cell_type": "code",
   "execution_count": 9,
   "metadata": {},
   "outputs": [
    {
     "name": "stdout",
     "output_type": "stream",
     "text": [
      "None\n"
     ]
    }
   ],
   "source": [
    "div_container = soup.find('div', class_='container')\n",
    "print(div_container)"
   ]
  },
  {
   "cell_type": "code",
   "execution_count": null,
   "metadata": {},
   "outputs": [],
   "source": []
  }
 ],
 "metadata": {
  "kernelspec": {
   "display_name": "base",
   "language": "python",
   "name": "python3"
  },
  "language_info": {
   "codemirror_mode": {
    "name": "ipython",
    "version": 3
   },
   "file_extension": ".py",
   "mimetype": "text/x-python",
   "name": "python",
   "nbconvert_exporter": "python",
   "pygments_lexer": "ipython3",
   "version": "3.12.7"
  }
 },
 "nbformat": 4,
 "nbformat_minor": 2
}
